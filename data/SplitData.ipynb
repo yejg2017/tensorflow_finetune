{
 "cells": [
  {
   "cell_type": "code",
   "execution_count": 10,
   "metadata": {
    "collapsed": true
   },
   "outputs": [],
   "source": [
    "import pandas as pd\n",
    "import numpy as np\n",
    "import os\n",
    "import math"
   ]
  },
  {
   "cell_type": "code",
   "execution_count": 7,
   "metadata": {},
   "outputs": [
    {
     "name": "stdout",
     "output_type": "stream",
     "text": [
      "                                                   0  1\n",
      "0  /home/ye/user/yejg/database/Kaggle_Eye/train_0...  0\n",
      "1  /home/ye/user/yejg/database/Kaggle_Eye/train_0...  0\n",
      "2  /home/ye/user/yejg/database/Kaggle_Eye/train_0...  0\n",
      "3  /home/ye/user/yejg/database/Kaggle_Eye/train_0...  0\n",
      "4  /home/ye/user/yejg/database/Kaggle_Eye/train_0...  1\n",
      "(35125, 2)\n"
     ]
    }
   ],
   "source": [
    "images_txt='/home/ye/user/yejg/LEARN/DL_MODEL_LEARN/TensorFlow/TransferLearn/Fine_tune/data/images.txt'\n",
    "images_list=pd.read_table(images_txt,header=None)\n",
    "print(images_list.head())\n",
    "print(images_list.shape)"
   ]
  },
  {
   "cell_type": "code",
   "execution_count": 8,
   "metadata": {},
   "outputs": [
    {
     "name": "stdout",
     "output_type": "stream",
     "text": [
      "[0 0 0 0 1 2]\n"
     ]
    },
    {
     "name": "stderr",
     "output_type": "stream",
     "text": [
      "/home/ye/user/yejg/SW_DATA/Or/lib/python3.6/site-packages/ipykernel_launcher.py:1: DeprecationWarning: \n",
      ".ix is deprecated. Please use\n",
      ".loc for label based indexing or\n",
      ".iloc for positional indexing\n",
      "\n",
      "See the documentation here:\n",
      "http://pandas.pydata.org/pandas-docs/stable/indexing.html#ix-indexer-is-deprecated\n",
      "  \"\"\"Entry point for launching an IPython kernel.\n"
     ]
    }
   ],
   "source": [
    "labels=np.array(images_list.ix[:,1].values)\n",
    "print(labels[:6])"
   ]
  },
  {
   "cell_type": "code",
   "execution_count": 9,
   "metadata": {},
   "outputs": [
    {
     "name": "stdout",
     "output_type": "stream",
     "text": [
      "(35125, 2)\n"
     ]
    }
   ],
   "source": [
    "images=np.array(images_list)\n",
    "print(images_list.shape)"
   ]
  },
  {
   "cell_type": "code",
   "execution_count": 11,
   "metadata": {
    "collapsed": true
   },
   "outputs": [],
   "source": [
    "def Split(X,ratio=0.2,shuffle=True):\n",
    "    if shuffle:\n",
    "        np.random.shuffle(X)\n",
    "    n=len(X)\n",
    "    train_len=math.ceil(n*(1-ratio))\n",
    "    #val_len=n-train_len\n",
    "    \n",
    "    train_images=X[:train_len]\n",
    "    val_images=X[train_len:]\n",
    "    return train_images,val_images"
   ]
  },
  {
   "cell_type": "code",
   "execution_count": 12,
   "metadata": {
    "collapsed": true
   },
   "outputs": [],
   "source": [
    "train_images,val_images=Split(X=images,ratio=0.2)\n",
    "print(train_images.shape,val_images.shape)"
   ]
  },
  {
   "cell_type": "code",
   "execution_count": 15,
   "metadata": {},
   "outputs": [
    {
     "name": "stdout",
     "output_type": "stream",
     "text": [
      "(28100, 2) (7025, 2)\n"
     ]
    }
   ],
   "source": [
    "train_images=pd.DataFrame(train_images)\n",
    "val_images=pd.DataFrame(val_images)\n",
    "print(train_images.shape,val_images.shape)"
   ]
  },
  {
   "cell_type": "code",
   "execution_count": 19,
   "metadata": {
    "collapsed": true
   },
   "outputs": [],
   "source": [
    "train_images.to_csv('train.txt',columns=None,index=None,sep=' ',header=None)\n",
    "val_images.to_csv('val.txt',columns=None,index=None,sep=' ',header=None)"
   ]
  },
  {
   "cell_type": "code",
   "execution_count": null,
   "metadata": {
    "collapsed": true
   },
   "outputs": [],
   "source": []
  }
 ],
 "metadata": {
  "kernelspec": {
   "display_name": "Python 3",
   "language": "python",
   "name": "python3"
  },
  "language_info": {
   "codemirror_mode": {
    "name": "ipython",
    "version": 3
   },
   "file_extension": ".py",
   "mimetype": "text/x-python",
   "name": "python",
   "nbconvert_exporter": "python",
   "pygments_lexer": "ipython3",
   "version": "3.6.2"
  }
 },
 "nbformat": 4,
 "nbformat_minor": 2
}
